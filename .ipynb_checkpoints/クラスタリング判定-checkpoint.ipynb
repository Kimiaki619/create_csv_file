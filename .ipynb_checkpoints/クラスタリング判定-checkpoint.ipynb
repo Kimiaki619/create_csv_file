{
 "cells": [
  {
   "cell_type": "code",
   "execution_count": 4,
   "metadata": {
    "scrolled": false
   },
   "outputs": [
    {
     "name": "stdout",
     "output_type": "stream",
     "text": [
      "0に0が0\n",
      "0に1が0\n",
      "0に2が0\n",
      "0に3が0\n",
      "0に4が0\n",
      "0に5が0\n",
      "合計0\n",
      "ーーーーーーーーーーーーーー\n",
      "1に0が0\n",
      "1に1が0\n",
      "1に2が0\n",
      "1に3が0\n",
      "1に4が0\n",
      "1に5が0\n",
      "合計0\n",
      "ーーーーーーーーーーーーーー\n",
      "2に0が0\n",
      "2に1が1\n",
      "2に2が0\n",
      "2に3が0\n",
      "2に4が0\n",
      "2に5が0\n",
      "合計1\n",
      "ーーーーーーーーーーーーーー\n",
      "3に0が0\n",
      "3に1が0\n",
      "3に2が0\n",
      "3に3が0\n",
      "3に4が0\n",
      "3に5が0\n",
      "合計0\n",
      "ーーーーーーーーーーーーーー\n",
      "4に0が0\n",
      "4に1が0\n",
      "4に2が0\n",
      "4に3が0\n",
      "4に4が0\n",
      "4に5が0\n",
      "合計0\n",
      "ーーーーーーーーーーーーーー\n",
      "5に0が0\n",
      "5に1が0\n",
      "5に2が1\n",
      "5に3が0\n",
      "5に4が2\n",
      "5に5が9\n",
      "合計12\n",
      "ーーーーーーーーーーーーーー\n"
     ]
    }
   ],
   "source": [
    "import cv2\n",
    "import os\n",
    "import shutil\n",
    "from skimage import data\n",
    "\n",
    "for n in range(6):\n",
    "    label = []\n",
    "    for path_label in os.listdir(f'/home/cvmlab/Desktop/view2020/6/普通のデータ/{n}'):\n",
    "        label.append(path_label)\n",
    "        x = 0\n",
    "    for m in range(6):\n",
    "        kurasu = []\n",
    "        y = 0\n",
    "        for path_kurasu in os.listdir(f'/home/cvmlab/Desktop/view2020/クラスタリング/dataB/images/clustered/{m}'):\n",
    "            kurasu.append(path_kurasu)\n",
    "            if path_kurasu in label:\n",
    "                y += 1\n",
    "                x += 1\n",
    "        print(str(n) + \"に\" + str(m) + \"が\" + str(y))\n",
    "    print(\"合計\"+str(x))\n",
    "    print(\"ーーーーーーーーーーーーーー\")\n",
    "        \n",
    "                    "
   ]
  },
  {
   "cell_type": "markdown",
   "metadata": {},
   "source": [
    "##### "
   ]
  },
  {
   "cell_type": "code",
   "execution_count": null,
   "metadata": {},
   "outputs": [],
   "source": []
  }
 ],
 "metadata": {
  "kernelspec": {
   "display_name": "Python 3",
   "language": "python",
   "name": "python3"
  },
  "language_info": {
   "codemirror_mode": {
    "name": "ipython",
    "version": 3
   },
   "file_extension": ".py",
   "mimetype": "text/x-python",
   "name": "python",
   "nbconvert_exporter": "python",
   "pygments_lexer": "ipython3",
   "version": "3.7.9"
  }
 },
 "nbformat": 4,
 "nbformat_minor": 2
}
